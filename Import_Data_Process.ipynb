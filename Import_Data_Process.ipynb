{
 "cells": [
  {
   "cell_type": "markdown",
   "metadata": {},
   "source": [
    "## Import Packages/Dataset & Data Pre-Processing"
   ]
  },
  {
   "cell_type": "code",
   "execution_count": 11,
   "metadata": {},
   "outputs": [],
   "source": [
    "# Importing Necessary Packages\n",
    "\n",
    "from implicit.nearest_neighbours import tfidf_weight\n",
    "from scipy.sparse import coo_matrix, csr_matrix\n",
    "from sklearn.metrics.pairwise import cosine_similarity\n",
    "from datetime import datetime\n",
    "from pathlib import Path\n",
    "from numpy import bincount, log, sqrt\n",
    "\n",
    "import scipy.sparse as sparse\n",
    "import implicit\n",
    "import pandas as pd\n",
    "import numpy as np\n",
    "import pickle\n",
    "import time\n",
    "import heapq"
   ]
  },
  {
   "cell_type": "code",
   "execution_count": 12,
   "metadata": {},
   "outputs": [],
   "source": [
    "# Read data files\n",
    "df_order_products_prior = pd.read_csv(\"order_products__prior.csv\")\n",
    "df_order_products_train = pd.read_csv(\"order_products__train.csv\")\n",
    "df_orders = pd.read_csv(\"orders.csv\") \n",
    "df_products = pd.read_csv(\"products.csv\")\n",
    "\n",
    "# Merge prior orders and products\n",
    "df_merged_prior = pd.merge(df_order_products_prior, df_products, on=\"product_id\", how=\"left\")"
   ]
  },
  {
   "cell_type": "code",
   "execution_count": 15,
   "metadata": {},
   "outputs": [],
   "source": [
    "def prior_data():\n",
    "    \"\"\"\n",
    "    Generates prior_user_products and product_frequency\n",
    "    \"\"\"\n",
    "    order_products = pd.read_csv(\"order_products__prior.csv\")\n",
    "    order_products = order_products[[\"order_id\", \"product_id\"]]\n",
    "\n",
    "    # Frequency of each product id\n",
    "    product_frequency = order_products['product_id'].value_counts()\n",
    "    # Make list of each order: [list of products]\n",
    "    order_products = order_products.groupby(\"order_id\")[\"product_id\"].apply(list)\n",
    "    \n",
    "    # Order id and user id of prior orders\n",
    "    # contains each order id with duplicate user ids\n",
    "    order_user_df = df_orders.loc[(df_orders.eval_set == \"prior\")]\n",
    "    order_user_df = order_user_df[[\"order_id\", \"user_id\"]]\n",
    "    \n",
    "    # Dataframe of order id - user id, [list of products]\n",
    "    prior_user_products = pd.merge(order_user_df, order_products, on=\"order_id\")\n",
    "    # Dataframe of user id and [list of product id] for each order with no order listed\n",
    "    prior_user_products = prior_user_products[[\"user_id\", \"product_id\"]]\n",
    "    prior_user_products = prior_user_products.groupby(\"user_id\")[\"product_id\"].agg(sum).reset_index()\n",
    "\n",
    "    # Returns user id:[product id] and frequency of each product id in terms of number of orders.\n",
    "    return prior_user_products, product_frequency"
   ]
  },
  {
   "cell_type": "code",
   "execution_count": 16,
   "metadata": {},
   "outputs": [
    {
     "data": {
      "text/html": [
       "<div>\n",
       "<style scoped>\n",
       "    .dataframe tbody tr th:only-of-type {\n",
       "        vertical-align: middle;\n",
       "    }\n",
       "\n",
       "    .dataframe tbody tr th {\n",
       "        vertical-align: top;\n",
       "    }\n",
       "\n",
       "    .dataframe thead th {\n",
       "        text-align: right;\n",
       "    }\n",
       "</style>\n",
       "<table border=\"1\" class=\"dataframe\">\n",
       "  <thead>\n",
       "    <tr style=\"text-align: right;\">\n",
       "      <th></th>\n",
       "      <th>user_id</th>\n",
       "      <th>product_id</th>\n",
       "    </tr>\n",
       "  </thead>\n",
       "  <tbody>\n",
       "    <tr>\n",
       "      <th>0</th>\n",
       "      <td>1</td>\n",
       "      <td>[196, 14084, 12427, 26088, 26405, 196, 10258, ...</td>\n",
       "    </tr>\n",
       "    <tr>\n",
       "      <th>1</th>\n",
       "      <td>2</td>\n",
       "      <td>[32792, 47766, 20574, 12000, 48110, 22474, 165...</td>\n",
       "    </tr>\n",
       "    <tr>\n",
       "      <th>2</th>\n",
       "      <td>3</td>\n",
       "      <td>[9387, 17668, 15143, 16797, 39190, 47766, 2190...</td>\n",
       "    </tr>\n",
       "    <tr>\n",
       "      <th>3</th>\n",
       "      <td>4</td>\n",
       "      <td>[36606, 7350, 35469, 2707, 42329, 7160, 1200, ...</td>\n",
       "    </tr>\n",
       "    <tr>\n",
       "      <th>4</th>\n",
       "      <td>5</td>\n",
       "      <td>[15349, 21413, 48775, 28289, 8518, 11777, 3171...</td>\n",
       "    </tr>\n",
       "  </tbody>\n",
       "</table>\n",
       "</div>"
      ],
      "text/plain": [
       "   user_id                                         product_id\n",
       "0        1  [196, 14084, 12427, 26088, 26405, 196, 10258, ...\n",
       "1        2  [32792, 47766, 20574, 12000, 48110, 22474, 165...\n",
       "2        3  [9387, 17668, 15143, 16797, 39190, 47766, 2190...\n",
       "3        4  [36606, 7350, 35469, 2707, 42329, 7160, 1200, ...\n",
       "4        5  [15349, 21413, 48775, 28289, 8518, 11777, 3171..."
      ]
     },
     "execution_count": 16,
     "metadata": {},
     "output_type": "execute_result"
    }
   ],
   "source": [
    "# Make prior data\n",
    "df_prior_user_products, df_product_frequency = prior_data()\n",
    "df_prior_user_products.head()"
   ]
  },
  {
   "cell_type": "code",
   "execution_count": 17,
   "metadata": {},
   "outputs": [],
   "source": [
    "# Function to save to disk to save time later\n",
    "def save_data_to_disk(dataframe, df_name):\n",
    "    filepath = \"df_{}.pkl\".format(df_name)\n",
    "    dataframe.to_pickle(filepath)\n"
   ]
  },
  {
   "cell_type": "code",
   "execution_count": 18,
   "metadata": {},
   "outputs": [],
   "source": [
    "# save data to disk for later use\n",
    "save_data_to_disk(df_prior_user_products, \"user_products_prior\")\n",
    "save_data_to_disk(df_product_frequency, \"product_frequency\")"
   ]
  },
  {
   "cell_type": "code",
   "execution_count": 19,
   "metadata": {},
   "outputs": [],
   "source": [
    "# Read user_products and product_frequency from disk\n",
    "df_prior_user_products = pd.read_pickle(\"df_user_products_prior.pkl\")\n",
    "df_product_frequency = pd.read_pickle(\"df_product_frequency.pkl\")\n",
    "df_product_frequency = pd.DataFrame(df_product_frequency).rename(columns={\"product_id\": \"frequency\"})"
   ]
  },
  {
   "cell_type": "code",
   "execution_count": 20,
   "metadata": {},
   "outputs": [],
   "source": [
    "def test_data(test_data_path, df_orders, df_order_products_train):\n",
    "    \"\"\"\n",
    "    Generates test dataset\n",
    "    \"\"\"\n",
    "\n",
    "    # Read train csv: equivalent test dataset (naming convention says train but is a test dataset)\n",
    "    df_order_user_test = df_orders.loc[(df_orders.eval_set == \"train\")]\n",
    "    df_order_user_test = df_order_user_test[[\"order_id\", \"user_id\"]]\n",
    "\n",
    "    # Convert to similar format as before\n",
    "    df_order_products_test = df_order_products_train[[\"order_id\", \"product_id\"]]\n",
    "    df_order_products_test = df_order_products_test.groupby(\"order_id\")[\"product_id\"].apply(list)\n",
    "\n",
    "    # Merge on order id and get user and product ids\n",
    "    df_user_products_test = pd.merge(df_order_user_test, df_order_products_test, on=\"order_id\")\n",
    "    df_user_products_test = df_user_products_test[[\"user_id\", \"product_id\"]]\n",
    "\n",
    "    # Write to disk\n",
    "    df_user_products_test.to_csv(test_data_path, index_label=False)"
   ]
  },
  {
   "cell_type": "code",
   "execution_count": 23,
   "metadata": {},
   "outputs": [],
   "source": [
    "# Make test data\n",
    "test_data_path = \"user_products__test.csv\"\n",
    "if not Path(test_data_path).is_file():\n",
    "    test_data(test_data_path, df_orders, df_order_products_train)\n"
   ]
  }
 ],
 "metadata": {
  "kernelspec": {
   "display_name": "Python 3",
   "language": "python",
   "name": "python3"
  },
  "language_info": {
   "codemirror_mode": {
    "name": "ipython",
    "version": 3
   },
   "file_extension": ".py",
   "mimetype": "text/x-python",
   "name": "python",
   "nbconvert_exporter": "python",
   "pygments_lexer": "ipython3",
   "version": "3.7.6"
  }
 },
 "nbformat": 4,
 "nbformat_minor": 4
}
